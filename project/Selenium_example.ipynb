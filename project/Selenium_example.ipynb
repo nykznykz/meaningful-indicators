{
 "cells": [
  {
   "cell_type": "code",
   "execution_count": 57,
   "metadata": {
    "collapsed": false
   },
   "outputs": [
    {
     "name": "stdout",
     "output_type": "stream",
     "text": [
      "at login page\n"
     ]
    }
   ],
   "source": [
    "from selenium import webdriver\n",
    "import time\n",
    "\n",
    "browser = webdriver.Firefox()\n",
    "browser.get('http://www.instagram.com/')\n",
    "#login\n",
    "loaded = False\n",
    "while not loaded:\n",
    "    try:\n",
    "        browser.find_element_by_xpath(\"/html/body/span/section/main/article/div[2]/div[2]/p/a\").click()\n",
    "        loaded = True\n",
    "        print(\"at login page\")\n",
    "        user = browser.find_element_by_xpath('//*[@id=\"f38bf7cd8c05dc6\"]').send_keys(\"meaningfulindicators@gmail.com\")\n",
    "    except:\n",
    "        time.sleep(5)\n",
    "        pass\n"
   ]
  },
  {
   "cell_type": "code",
   "execution_count": 43,
   "metadata": {
    "collapsed": false
   },
   "outputs": [],
   "source": [
    "browser.find_element_by_xpath(\"/html/body/span/section/main/article/div[2]/div[2]/p/a\").click()"
   ]
  },
  {
   "cell_type": "code",
   "execution_count": null,
   "metadata": {
    "collapsed": true
   },
   "outputs": [],
   "source": []
  },
  {
   "cell_type": "code",
   "execution_count": null,
   "metadata": {
    "collapsed": true
   },
   "outputs": [],
   "source": []
  }
 ],
 "metadata": {
  "kernelspec": {
   "display_name": "py35",
   "language": "python",
   "name": "py35"
  },
  "language_info": {
   "codemirror_mode": {
    "name": "ipython",
    "version": 3
   },
   "file_extension": ".py",
   "mimetype": "text/x-python",
   "name": "python",
   "nbconvert_exporter": "python",
   "pygments_lexer": "ipython3",
   "version": "3.5.3"
  }
 },
 "nbformat": 4,
 "nbformat_minor": 2
}
