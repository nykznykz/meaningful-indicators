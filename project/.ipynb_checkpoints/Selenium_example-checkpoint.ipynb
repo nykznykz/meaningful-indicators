{
 "cells": [
  {
   "cell_type": "code",
   "execution_count": 109,
   "metadata": {},
   "outputs": [
    {
     "name": "stdout",
     "output_type": "stream",
     "text": [
      "failed, sleeping 5s\n",
      "at login page\n"
     ]
    }
   ],
   "source": [
    "from selenium import webdriver\n",
    "import time\n",
    "\n",
    "browser = webdriver.Firefox()\n",
    "browser.get('http://www.instagram.com/')\n",
    "#login\n",
    "loaded = False\n",
    "while not loaded:\n",
    "    try:\n",
    "        browser.find_element_by_xpath(\"/html/body/span/section/main/article/div[2]/div[2]/p/a\").click()\n",
    "        loaded = True\n",
    "        print(\"at login page\")\n",
    "        enter_credentials(browser)\n",
    "    except:\n",
    "        print(\"failed, sleeping 5s\")\n",
    "        time.sleep(5)\n",
    "        pass\n",
    "time.sleep(2)\n",
    "# search_for_influencer(browser,\"sgagsg\")"
   ]
  },
  {
   "cell_type": "code",
   "execution_count": 9,
   "metadata": {},
   "outputs": [],
   "source": [
    "user = browser.find_element_by_name(\"username\")"
   ]
  },
  {
   "cell_type": "code",
   "execution_count": 10,
   "metadata": {},
   "outputs": [],
   "source": [
    "user.send_keys(\"h\")"
   ]
  },
  {
   "cell_type": "code",
   "execution_count": null,
   "metadata": {},
   "outputs": [],
   "source": []
  },
  {
   "cell_type": "code",
   "execution_count": 3,
   "metadata": {},
   "outputs": [],
   "source": [
    "def enter_credentials(browser):\n",
    "    time.sleep(0.5)\n",
    "    browser.find_element_by_name(\"username\").send_keys(\"meaningfulindicators@gmail.com\")\n",
    "    time.sleep(0.5)\n",
    "    browser.find_element_by_name(\"password\").send_keys(\"indicators1meaningful\")\n",
    "    browser.find_element_by_xpath(\"/html/body/span/section/main/article/div[2]/div[1]/div/form/span/button\").click()"
   ]
  },
  {
   "cell_type": "code",
   "execution_count": 15,
   "metadata": {},
   "outputs": [],
   "source": [
    "from selenium.webdriver.common.keys import Keys\n",
    "def search_for_influencer(browser, influencer):\n",
    "    searchbar = browser.find_element_by_xpath('/html/body/span/section/nav/div[2]/div/div/div[2]/input')\n",
    "    searchbar.send_keys(influencer)\n",
    "    time.sleep(0.5)\n",
    "    searchbar.send_keys(Keys.RETURN)\n",
    "    time.sleep(0.5)\n",
    "    searchbar.send_keys(Keys.RETURN)\n",
    "    time.sleep(0.5)\n",
    "    searchbar.send_keys(Keys.RETURN)\n",
    "    "
   ]
  },
  {
   "cell_type": "code",
   "execution_count": 40,
   "metadata": {},
   "outputs": [],
   "source": [
    "search_for_influencer(browser,\"sgagsg\")"
   ]
  },
  {
   "cell_type": "code",
   "execution_count": 59,
   "metadata": {},
   "outputs": [],
   "source": [
    "browser.get(\"https://www.instagram.com/p/BenP_vVHssR/?taken-by=xiaxue\")"
   ]
  },
  {
   "cell_type": "code",
   "execution_count": 69,
   "metadata": {},
   "outputs": [],
   "source": [
    "browser.find_element_by_xpath(\"/html/body/div[4]/div/div[2]/div/article/div[3]/button\").click()"
   ]
  },
  {
   "cell_type": "code",
   "execution_count": 70,
   "metadata": {},
   "outputs": [],
   "source": [
    "browser.find_element_by_xpath(\"/html/body/div[5]/div/div[2]/div/ul/li[1]/button\").click()"
   ]
  },
  {
   "cell_type": "code",
   "execution_count": 71,
   "metadata": {},
   "outputs": [],
   "source": [
    "browser.find_element_by_xpath('/html/body/span/section/main/div/div/article/div[2]/section[2]/div/a').click()"
   ]
  },
  {
   "cell_type": "markdown",
   "metadata": {},
   "source": [
    "# Clicking all the posts in a page"
   ]
  },
  {
   "cell_type": "code",
   "execution_count": 92,
   "metadata": {},
   "outputs": [],
   "source": [
    "browser.get(\"https://www.instagram.com/xiaxue/\")"
   ]
  },
  {
   "cell_type": "markdown",
   "metadata": {},
   "source": [
    "Scroll down to load ajax"
   ]
  },
  {
   "cell_type": "code",
   "execution_count": 188,
   "metadata": {},
   "outputs": [],
   "source": [
    "body_elem = browser.find_element_by_tag_name(\"body\")\n",
    "for _ in range(3):\n",
    "    body_elem.send_keys(Keys.END)\n",
    "    time.sleep(2)"
   ]
  },
  {
   "cell_type": "code",
   "execution_count": 213,
   "metadata": {},
   "outputs": [],
   "source": [
    "#get all posts\n",
    "allposts = browser.find_elements_by_class_name(\"_70iju\")"
   ]
  },
  {
   "cell_type": "code",
   "execution_count": 190,
   "metadata": {},
   "outputs": [
    {
     "name": "stdout",
     "output_type": "stream",
     "text": [
      "failed\n",
      "failed\n",
      "failed\n",
      "failed\n",
      "failed\n",
      "failed\n"
     ]
    }
   ],
   "source": [
    "for post in allposts:\n",
    "    post.click()\n",
    "    time.sleep(1)\n",
    "    #close popup\n",
    "    try:\n",
    "        browser.find_element_by_class_name(\"_dcj9f\").click()\n",
    "        time.sleep(1)\n",
    "    except:\n",
    "        print(\"failed\")"
   ]
  },
  {
   "cell_type": "markdown",
   "metadata": {},
   "source": [
    "# Doing everything together"
   ]
  },
  {
   "cell_type": "code",
   "execution_count": 184,
   "metadata": {},
   "outputs": [],
   "source": [
    "host = \"https://www.instagram.com/\"\n",
    "influencers = [\"naomineo_\", \"xiaxue\", \"bellywellyjelly\"]"
   ]
  },
  {
   "cell_type": "code",
   "execution_count": 185,
   "metadata": {},
   "outputs": [
    {
     "name": "stdout",
     "output_type": "stream",
     "text": [
      "failed\n",
      "failed\n",
      "failed\n",
      "failed\n",
      "failed\n",
      "failed\n"
     ]
    },
    {
     "ename": "StaleElementReferenceException",
     "evalue": "Message: The element reference of <div class=\"_e3il2\"> is stale; either the element is no longer attached to the DOM, it is not in the current frame context, or the document has been refreshed\n",
     "output_type": "error",
     "traceback": [
      "\u001b[0;31m---------------------------------------------------------------------------\u001b[0m",
      "\u001b[0;31mStaleElementReferenceException\u001b[0m            Traceback (most recent call last)",
      "\u001b[0;32m<ipython-input-185-8c2c83b43cfa>\u001b[0m in \u001b[0;36m<module>\u001b[0;34m()\u001b[0m\n\u001b[1;32m     10\u001b[0m     \u001b[0;32mfor\u001b[0m \u001b[0mpost\u001b[0m \u001b[0;32min\u001b[0m \u001b[0mallposts\u001b[0m\u001b[0;34m:\u001b[0m\u001b[0;34m\u001b[0m\u001b[0m\n\u001b[1;32m     11\u001b[0m         \u001b[0mtime\u001b[0m\u001b[0;34m.\u001b[0m\u001b[0msleep\u001b[0m\u001b[0;34m(\u001b[0m\u001b[0;36m2\u001b[0m\u001b[0;34m)\u001b[0m\u001b[0;34m\u001b[0m\u001b[0m\n\u001b[0;32m---> 12\u001b[0;31m         \u001b[0mpost\u001b[0m\u001b[0;34m.\u001b[0m\u001b[0mclick\u001b[0m\u001b[0;34m(\u001b[0m\u001b[0;34m)\u001b[0m\u001b[0;34m\u001b[0m\u001b[0m\n\u001b[0m\u001b[1;32m     13\u001b[0m         \u001b[0mtime\u001b[0m\u001b[0;34m.\u001b[0m\u001b[0msleep\u001b[0m\u001b[0;34m(\u001b[0m\u001b[0;36m1\u001b[0m\u001b[0;34m)\u001b[0m\u001b[0;34m\u001b[0m\u001b[0m\n\u001b[1;32m     14\u001b[0m         \u001b[0;31m#close popup\u001b[0m\u001b[0;34m\u001b[0m\u001b[0;34m\u001b[0m\u001b[0m\n",
      "\u001b[0;32m~/anaconda3/envs/main/lib/python3.5/site-packages/selenium/webdriver/remote/webelement.py\u001b[0m in \u001b[0;36mclick\u001b[0;34m(self)\u001b[0m\n\u001b[1;32m     78\u001b[0m     \u001b[0;32mdef\u001b[0m \u001b[0mclick\u001b[0m\u001b[0;34m(\u001b[0m\u001b[0mself\u001b[0m\u001b[0;34m)\u001b[0m\u001b[0;34m:\u001b[0m\u001b[0;34m\u001b[0m\u001b[0m\n\u001b[1;32m     79\u001b[0m         \u001b[0;34m\"\"\"Clicks the element.\"\"\"\u001b[0m\u001b[0;34m\u001b[0m\u001b[0m\n\u001b[0;32m---> 80\u001b[0;31m         \u001b[0mself\u001b[0m\u001b[0;34m.\u001b[0m\u001b[0m_execute\u001b[0m\u001b[0;34m(\u001b[0m\u001b[0mCommand\u001b[0m\u001b[0;34m.\u001b[0m\u001b[0mCLICK_ELEMENT\u001b[0m\u001b[0;34m)\u001b[0m\u001b[0;34m\u001b[0m\u001b[0m\n\u001b[0m\u001b[1;32m     81\u001b[0m \u001b[0;34m\u001b[0m\u001b[0m\n\u001b[1;32m     82\u001b[0m     \u001b[0;32mdef\u001b[0m \u001b[0msubmit\u001b[0m\u001b[0;34m(\u001b[0m\u001b[0mself\u001b[0m\u001b[0;34m)\u001b[0m\u001b[0;34m:\u001b[0m\u001b[0;34m\u001b[0m\u001b[0m\n",
      "\u001b[0;32m~/anaconda3/envs/main/lib/python3.5/site-packages/selenium/webdriver/remote/webelement.py\u001b[0m in \u001b[0;36m_execute\u001b[0;34m(self, command, params)\u001b[0m\n\u001b[1;32m    626\u001b[0m             \u001b[0mparams\u001b[0m \u001b[0;34m=\u001b[0m \u001b[0;34m{\u001b[0m\u001b[0;34m}\u001b[0m\u001b[0;34m\u001b[0m\u001b[0m\n\u001b[1;32m    627\u001b[0m         \u001b[0mparams\u001b[0m\u001b[0;34m[\u001b[0m\u001b[0;34m'id'\u001b[0m\u001b[0;34m]\u001b[0m \u001b[0;34m=\u001b[0m \u001b[0mself\u001b[0m\u001b[0;34m.\u001b[0m\u001b[0m_id\u001b[0m\u001b[0;34m\u001b[0m\u001b[0m\n\u001b[0;32m--> 628\u001b[0;31m         \u001b[0;32mreturn\u001b[0m \u001b[0mself\u001b[0m\u001b[0;34m.\u001b[0m\u001b[0m_parent\u001b[0m\u001b[0;34m.\u001b[0m\u001b[0mexecute\u001b[0m\u001b[0;34m(\u001b[0m\u001b[0mcommand\u001b[0m\u001b[0;34m,\u001b[0m \u001b[0mparams\u001b[0m\u001b[0;34m)\u001b[0m\u001b[0;34m\u001b[0m\u001b[0m\n\u001b[0m\u001b[1;32m    629\u001b[0m \u001b[0;34m\u001b[0m\u001b[0m\n\u001b[1;32m    630\u001b[0m     \u001b[0;32mdef\u001b[0m \u001b[0mfind_element\u001b[0m\u001b[0;34m(\u001b[0m\u001b[0mself\u001b[0m\u001b[0;34m,\u001b[0m \u001b[0mby\u001b[0m\u001b[0;34m=\u001b[0m\u001b[0mBy\u001b[0m\u001b[0;34m.\u001b[0m\u001b[0mID\u001b[0m\u001b[0;34m,\u001b[0m \u001b[0mvalue\u001b[0m\u001b[0;34m=\u001b[0m\u001b[0;32mNone\u001b[0m\u001b[0;34m)\u001b[0m\u001b[0;34m:\u001b[0m\u001b[0;34m\u001b[0m\u001b[0m\n",
      "\u001b[0;32m~/anaconda3/envs/main/lib/python3.5/site-packages/selenium/webdriver/remote/webdriver.py\u001b[0m in \u001b[0;36mexecute\u001b[0;34m(self, driver_command, params)\u001b[0m\n\u001b[1;32m    310\u001b[0m         \u001b[0mresponse\u001b[0m \u001b[0;34m=\u001b[0m \u001b[0mself\u001b[0m\u001b[0;34m.\u001b[0m\u001b[0mcommand_executor\u001b[0m\u001b[0;34m.\u001b[0m\u001b[0mexecute\u001b[0m\u001b[0;34m(\u001b[0m\u001b[0mdriver_command\u001b[0m\u001b[0;34m,\u001b[0m \u001b[0mparams\u001b[0m\u001b[0;34m)\u001b[0m\u001b[0;34m\u001b[0m\u001b[0m\n\u001b[1;32m    311\u001b[0m         \u001b[0;32mif\u001b[0m \u001b[0mresponse\u001b[0m\u001b[0;34m:\u001b[0m\u001b[0;34m\u001b[0m\u001b[0m\n\u001b[0;32m--> 312\u001b[0;31m             \u001b[0mself\u001b[0m\u001b[0;34m.\u001b[0m\u001b[0merror_handler\u001b[0m\u001b[0;34m.\u001b[0m\u001b[0mcheck_response\u001b[0m\u001b[0;34m(\u001b[0m\u001b[0mresponse\u001b[0m\u001b[0;34m)\u001b[0m\u001b[0;34m\u001b[0m\u001b[0m\n\u001b[0m\u001b[1;32m    313\u001b[0m             response['value'] = self._unwrap_value(\n\u001b[1;32m    314\u001b[0m                 response.get('value', None))\n",
      "\u001b[0;32m~/anaconda3/envs/main/lib/python3.5/site-packages/selenium/webdriver/remote/errorhandler.py\u001b[0m in \u001b[0;36mcheck_response\u001b[0;34m(self, response)\u001b[0m\n\u001b[1;32m    235\u001b[0m         \u001b[0;32melif\u001b[0m \u001b[0mexception_class\u001b[0m \u001b[0;34m==\u001b[0m \u001b[0mUnexpectedAlertPresentException\u001b[0m \u001b[0;32mand\u001b[0m \u001b[0;34m'alert'\u001b[0m \u001b[0;32min\u001b[0m \u001b[0mvalue\u001b[0m\u001b[0;34m:\u001b[0m\u001b[0;34m\u001b[0m\u001b[0m\n\u001b[1;32m    236\u001b[0m             \u001b[0;32mraise\u001b[0m \u001b[0mexception_class\u001b[0m\u001b[0;34m(\u001b[0m\u001b[0mmessage\u001b[0m\u001b[0;34m,\u001b[0m \u001b[0mscreen\u001b[0m\u001b[0;34m,\u001b[0m \u001b[0mstacktrace\u001b[0m\u001b[0;34m,\u001b[0m \u001b[0mvalue\u001b[0m\u001b[0;34m[\u001b[0m\u001b[0;34m'alert'\u001b[0m\u001b[0;34m]\u001b[0m\u001b[0;34m.\u001b[0m\u001b[0mget\u001b[0m\u001b[0;34m(\u001b[0m\u001b[0;34m'text'\u001b[0m\u001b[0;34m)\u001b[0m\u001b[0;34m)\u001b[0m\u001b[0;34m\u001b[0m\u001b[0m\n\u001b[0;32m--> 237\u001b[0;31m         \u001b[0;32mraise\u001b[0m \u001b[0mexception_class\u001b[0m\u001b[0;34m(\u001b[0m\u001b[0mmessage\u001b[0m\u001b[0;34m,\u001b[0m \u001b[0mscreen\u001b[0m\u001b[0;34m,\u001b[0m \u001b[0mstacktrace\u001b[0m\u001b[0;34m)\u001b[0m\u001b[0;34m\u001b[0m\u001b[0m\n\u001b[0m\u001b[1;32m    238\u001b[0m \u001b[0;34m\u001b[0m\u001b[0m\n\u001b[1;32m    239\u001b[0m     \u001b[0;32mdef\u001b[0m \u001b[0m_value_or_default\u001b[0m\u001b[0;34m(\u001b[0m\u001b[0mself\u001b[0m\u001b[0;34m,\u001b[0m \u001b[0mobj\u001b[0m\u001b[0;34m,\u001b[0m \u001b[0mkey\u001b[0m\u001b[0;34m,\u001b[0m \u001b[0mdefault\u001b[0m\u001b[0;34m)\u001b[0m\u001b[0;34m:\u001b[0m\u001b[0;34m\u001b[0m\u001b[0m\n",
      "\u001b[0;31mStaleElementReferenceException\u001b[0m: Message: The element reference of <div class=\"_e3il2\"> is stale; either the element is no longer attached to the DOM, it is not in the current frame context, or the document has been refreshed\n"
     ]
    }
   ],
   "source": [
    "for influencer in influencers:\n",
    "    url = host + influencer + \"/\"\n",
    "    browser.get(url)\n",
    "    #scroll down\n",
    "    body_elem = browser.find_element_by_tag_name(\"body\")\n",
    "    for _ in range(3):\n",
    "        body_elem.send_keys(Keys.END)\n",
    "        time.sleep(2)\n",
    "    allposts = browser.find_elements_by_class_name(\"_e3il2\")\n",
    "    for post in allposts:\n",
    "        time.sleep(2)\n",
    "        post.click()\n",
    "        time.sleep(1)\n",
    "        #close popup\n",
    "        try:\n",
    "            browser.find_element_by_class_name(\"_dcj9f\").click()\n",
    "            time.sleep(2)\n",
    "        except:\n",
    "            print(\"failed\")"
   ]
  },
  {
   "cell_type": "markdown",
   "metadata": {},
   "source": [
    "### To look for links"
   ]
  },
  {
   "cell_type": "code",
   "execution_count": 224,
   "metadata": {},
   "outputs": [
    {
     "data": {
      "text/plain": [
       "'https://www.instagram.com/p/Bek-jviHwIU/?taken-by=xiaxue'"
      ]
     },
     "execution_count": 224,
     "metadata": {},
     "output_type": "execute_result"
    }
   ],
   "source": [
    "allposts[0].find_elements_by_tag_name(\"a\")[2].get_attribute(\"href\")"
   ]
  },
  {
   "cell_type": "markdown",
   "metadata": {},
   "source": [
    "### To look for captions"
   ]
  },
  {
   "cell_type": "code",
   "execution_count": 223,
   "metadata": {
    "scrolled": true
   },
   "outputs": [
    {
     "data": {
      "text/plain": [
       "'What? You mean not everyone has 🦄\\U0001f9dc🏻\\u200d♀️ hair? 💁🏼\\u200d♀️\\n.\\nI’m never living without tinsel strands in my hair again. Never. You understand me? NEVER EVER. \\U0001f929 These iridescent babies can now withstand heat (I did them years ago and they melted on the curling iron) so you can straighten or tong them. It might be the best invention in the world, even better than... say... airfryers. #iknowright They are individually knotted on single strands of hair and has lasted me more than a month now. Super comfortable too. Got them done at @glitaf. Yes it looks fucking nice even on black hair, go to their ig to see. Let the tsunami of customers begin, @cleokim. 😅'"
      ]
     },
     "execution_count": 223,
     "metadata": {},
     "output_type": "execute_result"
    }
   ],
   "source": [
    "allposts[0].find_elements_by_tag_name(\"img\")[2].get_attribute(\"alt\")"
   ]
  },
  {
   "cell_type": "markdown",
   "metadata": {},
   "source": [
    "### Define a function to scrape 5 scrolls worth of captions per page"
   ]
  },
  {
   "cell_type": "code",
   "execution_count": 12,
   "metadata": {},
   "outputs": [],
   "source": [
    "def scroll_page(scrolls):\n",
    "    body_elem = browser.find_element_by_tag_name(\"body\")\n",
    "    if type(scrolls) == int:\n",
    "        for s in range(scrolls):\n",
    "            print(\"scrolling...\" + str(s + 1) + \"/\" + str(scrolls))\n",
    "            body_elem.send_keys(Keys.END)\n",
    "            time.sleep(2)\n",
    "            "
   ]
  },
  {
   "cell_type": "code",
   "execution_count": 23,
   "metadata": {},
   "outputs": [],
   "source": [
    "def scrape_links_and_captions_from_page(influencer, scrolls):\n",
    "    page_url = \"https://www.instagram.com/\" + influencer\n",
    "    browser.get(page_url)\n",
    "    scroll_page(scrolls)\n",
    "    allposts = browser.find_elements_by_class_name(\"_70iju\")\n",
    "    data = []\n",
    "    for row in allposts:\n",
    "        row_posts_links = row.find_elements_by_tag_name(\"a\")\n",
    "        row_posts_captions = row.find_elements_by_tag_name(\"img\")\n",
    "        if len(row_posts_links) != len(row_posts_captions):\n",
    "            print(\"links not aligned with captions\")\n",
    "            print(row_posts_links[0].get_attribute(\"href\"))\n",
    "            \n",
    "        for i in range(len(row_posts_links)):\n",
    "            link = row_posts_links[i].get_attribute(\"href\")\n",
    "            caption = row_posts_captions[i].get_attribute(\"alt\")\n",
    "            data.append([link,caption])\n",
    "            \n",
    "#         for post in row_posts_links:\n",
    "#             print(post.get_attribute(\"href\"))\n",
    "            \n",
    "#         for post in row_posts_captions:\n",
    "#             print(post.get_attribute(\"alt\"))\n",
    "    return data"
   ]
  },
  {
   "cell_type": "code",
   "execution_count": 34,
   "metadata": {},
   "outputs": [
    {
     "name": "stdout",
     "output_type": "stream",
     "text": [
      "scrolling...1/10\n",
      "scrolling...2/10\n",
      "scrolling...3/10\n",
      "scrolling...4/10\n",
      "scrolling...5/10\n",
      "scrolling...6/10\n",
      "scrolling...7/10\n",
      "scrolling...8/10\n",
      "scrolling...9/10\n",
      "scrolling...10/10\n"
     ]
    }
   ],
   "source": [
    "data = scrape_links_and_captions_from_page(\"xiaxue\", 10)"
   ]
  },
  {
   "cell_type": "code",
   "execution_count": 35,
   "metadata": {},
   "outputs": [],
   "source": [
    "import pandas as pd\n",
    "df = pd.DataFrame(data, columns=[\"links\", \"captions\"])\n",
    "df.to_csv(\"xiaxue_ig_data.csv\")"
   ]
  },
  {
   "cell_type": "markdown",
   "metadata": {},
   "source": [
    "### Scraping individual posts"
   ]
  },
  {
   "cell_type": "code",
   "execution_count": 40,
   "metadata": {},
   "outputs": [],
   "source": [
    "link = df.iloc[0][\"links\"]"
   ]
  },
  {
   "cell_type": "code",
   "execution_count": 65,
   "metadata": {},
   "outputs": [],
   "source": [
    "browser.get(link)"
   ]
  },
  {
   "cell_type": "code",
   "execution_count": 66,
   "metadata": {},
   "outputs": [],
   "source": [
    "#load all comments\n",
    "browser.find_element_by_link_text(\"Load more comments\").click()\n",
    "time.sleep(2)\n",
    "browser.find_element_by_partial_link_text(\"View all\").click()"
   ]
  },
  {
   "cell_type": "code",
   "execution_count": 54,
   "metadata": {},
   "outputs": [
    {
     "data": {
      "text/plain": [
       "'miyagisan'"
      ]
     },
     "execution_count": 54,
     "metadata": {},
     "output_type": "execute_result"
    }
   ],
   "source": [
    "browser.find_elements_by_class_name(\"_ezgzd\")[3].find_elements_by_tag_name(\"a\")[0].get_attribute(\"title\")"
   ]
  },
  {
   "cell_type": "code",
   "execution_count": 67,
   "metadata": {},
   "outputs": [],
   "source": [
    "comments = browser.find_elements_by_class_name(\"_ezgzd\")"
   ]
  },
  {
   "cell_type": "code",
   "execution_count": 68,
   "metadata": {},
   "outputs": [
    {
     "name": "stdout",
     "output_type": "stream",
     "text": [
      "xiaxue: Ahhhhhhhhhh backstage photo with @nameweephoto!!!! I super like him he is so talented and funny!!! 😍 Got loads of the concert on my ig stories you guys are WELCOME!!\n",
      "vera.dora.yew: i love namewee & xiaxue!!! ❤️\n",
      "kievhoo: @xxxinyyyi\n",
      "fionareyana: Thank you! Enjoyed it through your ig stories\n",
      "lveena: Thank you all the ig stories!!!\n",
      "mysassyfoodblogger: Hello namewee\n",
      "q.ueencleo: @relucas\n",
      "amandapanggg: so great to see u jn & love you 💖\n",
      "sixth.month: THANK YOU FOR THE IG STORIES!!!!\n",
      "zhiyunpeata: THANK YOU!!!!\n",
      "dessimondo: I didnt get to go but thanks for the ig stories!!!\n",
      "k.ceracera: Nice! 👏🏻👏🏻👏🏻\n",
      "indonesia.follower: di order yuk\n",
      "xxxinyyyi: @kievhoo saw this HAHA\n",
      "missjoycelish: Thx for sharing 😍\n",
      "tobetterdays: THANK YOU!!! ❤️❤️❤️\n",
      "summ3rwon: @mr_woncy missed sg concert!? Watch her igstories!\n",
      "eignagn_official: Xx. Your new look is really very perfect now. Totally no need photoshop anymore. You are so beautiful ♥️😍\n",
      "doc.rinni: @yepiubest\n",
      "vbvbb110: 🎀❤️💼包包鞋子点我头像看看🎀👢\n",
      "shyanwasup: Yeaaa ! Thank you so much XX !!\n",
      "kehuann___: @tze.nean @shann.tan 偶像！！\n",
      "annietan83: Wow he cute la😍\n",
      "jeenawongjm: 😍 thanks a lot for sharing and I watched all the bits of your stories!!\n",
      "thirtyoneoct: @decqi_w see her insta story 😂\n",
      "miyagisan: You were there too! I thought I saw you!\n",
      "vidakush: 🌹\n",
      "anthon_cw: 😍😍😍😍\n",
      "vivcheny: Thank you for the free concert lol\n",
      "tambahin_follower: keren\n",
      "jasa_follower2: mampir kak ya\n",
      "camilleshanicetravels: Nice!\n",
      "owhimsicalowls: OMGGG!! THANK YOU SO MUCH for uploading his concert on IG! I watched everything! He is the best hahaha. The one and only in Asia! Not many people are able to see past the political incorrectness to understand the amount of hardwork and struggle he had to go through to get to where he is. So happy the concert was a success!! ☺️🎉🎊\n",
      "_lilyu: Thoight he was jay chou for a second haha\n",
      "poyosann: I love him too!! Legend!\n",
      "peanutbutter___: For a moment I thought he is JayChou\n",
      "weechin28: tks. love ur ig so much....as good as watching it live!! ttks x 1000\n",
      "follower_instaid: cek ig kita kak ya\n",
      "louischok: @_kianyong_ 看着先\n",
      "nancygan7: Thank you @xiaxue ! Enjoyed watching every bits of it!!!!! Definitely can’t watch it live in Msia 😂\n",
      "cherylwsy: Thank you xx for the free concert! 🤣\n",
      "rosiana.lou: Thank you 😍\n",
      "xiaxue: @weechin28 no lah definitely Live is 1000000x better hahaha but it’s good enough if you can’t buy tickets!\n",
      "weechin28: @xiaxue tks anyway 😘😘\n"
     ]
    }
   ],
   "source": [
    "for comment in comments:\n",
    "    ig_user = comment.find_elements_by_tag_name(\"a\")[0].get_attribute(\"title\")\n",
    "    text = comment.find_element_by_tag_name(\"span\").text\n",
    "    print(ig_user + \": \" + text)"
   ]
  },
  {
   "cell_type": "code",
   "execution_count": 70,
   "metadata": {},
   "outputs": [
    {
     "name": "stdout",
     "output_type": "stream",
     "text": [
      "44\n"
     ]
    }
   ],
   "source": [
    "n_comments = len(comments)\n",
    "print(n_comments)"
   ]
  },
  {
   "cell_type": "code",
   "execution_count": 76,
   "metadata": {},
   "outputs": [
    {
     "data": {
      "text/plain": [
       "10095"
      ]
     },
     "execution_count": 76,
     "metadata": {},
     "output_type": "execute_result"
    }
   ],
   "source": [
    "n_likes = int(browser.find_element_by_class_name(\"_nzn1h\").find_element_by_tag_name(\"span\").text.replace(\",\",\"\"))\n",
    "print(n_likes)"
   ]
  },
  {
   "cell_type": "markdown",
   "metadata": {},
   "source": [
    "### In Progress: getting all ig_users who liked the post"
   ]
  },
  {
   "cell_type": "code",
   "execution_count": 85,
   "metadata": {},
   "outputs": [],
   "source": [
    "liked_by = browser.find_element_by_class_name(\"_nzn1h\")\n",
    "#reach popup\n",
    "liked_by.click()\n",
    "# TODO: scroll through ajax\n",
    "# Learn how to max scroll"
   ]
  },
  {
   "cell_type": "code",
   "execution_count": 87,
   "metadata": {},
   "outputs": [],
   "source": [
    "users_who_liked = browser.find_elements_by_class_name(\"_2nunc\")"
   ]
  },
  {
   "cell_type": "code",
   "execution_count": 89,
   "metadata": {},
   "outputs": [
    {
     "name": "stdout",
     "output_type": "stream",
     "text": [
      "aven.th\n",
      "hakimixz_15\n",
      "cherrykaching\n",
      "iamtotoro\n",
      "oikie_kay\n",
      "hannahyin\n",
      "ffaaayeeee\n",
      "girlguide_emi\n",
      "chintya1910\n",
      "mandygsl78\n",
      "aaaiilicec\n",
      "cherylcfairy\n",
      "nadhirahnoor_\n",
      "aliciatingy\n",
      "jessielimmm\n",
      "asianofthegeneration\n",
      "yan4uu\n",
      "chaynetay\n",
      "_nameless.soul_\n",
      "jansychoy\n",
      "roselynnchai\n",
      "thepinksoldier\n",
      "huimin.x\n",
      "yee_moon\n",
      "hanjiacelia\n",
      "keannie\n",
      "badvellous\n",
      "explicit.xx\n",
      "wengyeeeee\n",
      "oscillaa\n",
      "heykatttieee\n",
      "ephraimyeow\n",
      "beebeeting67\n",
      "thenatalietai\n",
      "chinfung93\n",
      "wei_eee\n",
      "oliviamiwil\n",
      "jiaqi_0205\n",
      "arsenalrocks_forever\n",
      "cxinjiex\n",
      "xinyicyndisoh\n",
      "parismornings\n",
      "ppm9489\n",
      "meganechua\n",
      "yybabyisthebest\n",
      "hell.lenn\n",
      "supergn\n",
      "ceciliawsyyy\n",
      "swiithearts\n",
      "dydyloh\n",
      "yianting\n",
      "pex.qx\n",
      "fionatyx\n",
      "cayethang\n",
      "ri.ch.elle\n",
      "jinnn.g\n",
      "felexin05\n",
      "yewqio\n",
      "sereneelew\n",
      "wendytan34765\n",
      "grace_lovepink\n",
      "ps_pohshin\n",
      "doubleyingg\n",
      "nicolepua97\n",
      "mailotii\n",
      "princessjulia1\n",
      "_ariell_loh\n",
      "cherjaine\n",
      "lee_wynne\n",
      "angieng218\n",
      "yokepingteo\n",
      "sweathui\n",
      "reesebee\n",
      "p_595\n",
      "jayms.oon\n",
      "__nur\n",
      "siauqian\n",
      "lowseenee\n",
      "richbetterhavemymoney\n",
      "carmmen23\n",
      "khushi_singh_rajput_666\n",
      "sukioh\n",
      "lavigne_chan\n",
      "alvinna_0112\n",
      "seldingdong\n",
      "ap_ple93\n",
      "kylahuang\n",
      "jacszemiin\n",
      "rrrockstars\n",
      "okzxdb__\n",
      "r4chelleee\n",
      "jasminethegirlonice\n",
      "manzhupang\n",
      "jessoh501\n",
      "vlxrui\n",
      "mooncakelim\n",
      "grants.secret.account.shhhhhhh\n",
      "yii_mx\n",
      "jyfc\n",
      "pinkponkpunkpiak\n",
      "crystalleo\n",
      "tinnekepgsdkn\n",
      "kok_wing_05\n",
      "c.cheee\n",
      "soowenxrae\n",
      "marcoliver_97\n",
      "bunnylover_1122\n",
      "mishay95\n",
      "rimitsuki\n",
      "meifang93\n",
      "laurenceooi\n",
      "ximenaesscarcega\n",
      "jjmyjan\n",
      "quekyanzi\n",
      "anny.pxy\n",
      "unicorn_chloelim\n",
      "iammissed\n",
      "vintagecurrent\n",
      "lucey.s\n",
      "wkaili\n",
      "fleurlicious_official\n",
      "peyjenn\n",
      "fangyinn\n",
      "jessica_______lum\n",
      "ruby.say\n",
      "samsimon520\n",
      "97chengg_\n",
      "geezitsbran\n",
      "shbarp\n",
      "yyyyyingg\n",
      "yitiiiing\n",
      "kyeli.l\n",
      "happymelol_\n",
      "norationg\n",
      "crazylilgurlx\n",
      "chelseahuehehe\n",
      "oonlyyouuu\n",
      "tee_nikki\n",
      "amandachong95\n",
      "nrn_inrh\n",
      "crappyspaghetti_\n",
      "beep.wei\n",
      "belleleo__\n",
      "leeyintam\n",
      "popoekeng\n",
      "mk_babyz\n",
      "tinylittlefucker\n",
      "v.csh\n",
      "belzz.koh\n",
      "momofidel805\n",
      "georgineeeeeee\n",
      "acewxng\n",
      "__serenaac_\n",
      "ghealevina\n",
      "ayumisantai\n",
      "peiwentheboss\n",
      "ferdannylon\n",
      "jia_wei\n",
      "pohley\n",
      "heartfcuked\n",
      "preciousalice\n",
      "latajeluing\n",
      "r_xuanq\n",
      "chxryl22\n",
      "kelly_munmun\n",
      "yojeraldineyeo\n",
      "_ruyu_\n",
      "snyhuang\n",
      "_angelinelau\n",
      "sabrinameowx\n",
      "baby_ashleysarah\n",
      "ngewsealing\n",
      "jynnruii\n",
      "iamsakurasmother\n",
      "flower.xoxo.333\n",
      "justin0629\n",
      "chlncnx\n",
      "jojo.jerry.90\n",
      "cltwilleatyou\n",
      "audreyayeo\n",
      "yingz_tan\n",
      "joolyn\n",
      "ryanyongyx\n",
      "mrchong_gan\n",
      "terrencesoh\n",
      "szexian1207\n",
      "valkymon\n",
      "soverheannty\n",
      "lishanshanchan\n",
      "shanya.yip\n",
      "priscilla_annadreiana\n",
      "elsieseah\n",
      "ping_needs_food\n",
      "little_jr\n",
      "jeesysun_\n",
      "juzcrystallim\n",
      "jadeyyyneooo\n",
      "skyetzk\n",
      "sherylcxe\n",
      "jacelyntyj94\n",
      "nanabelleb\n",
      "esther_sterrrr\n",
      "winnieechoo\n",
      "binkyboppy\n",
      "shiyan.c\n",
      "w.zhixin\n",
      "teyyuuna\n",
      "nicholas.g_\n",
      "karjae\n",
      "jesslynros\n",
      "iishhikaa\n",
      "nic.mrstee\n",
      "huimingpool\n",
      "fdzlyfadzly\n",
      "darrenkohchenren\n",
      "_nurafiqxxh_\n",
      "peiqiiiiiiiiii\n",
      "shirleylkr\n",
      "nihao.chelsea\n",
      "uglylostgirl\n",
      "333szobacn333\n",
      "yiyi1001\n",
      "elajx09\n",
      "esyuenkoh\n",
      "xxnatlimxx\n",
      "cxdxx\n",
      "shannactics\n",
      "2thirdsofbrains\n",
      "weiyingloi\n",
      "reginabelle_wms\n",
      "themonkeyflamingo\n",
      "r_oxann_e\n",
      "jialu_g\n",
      "jgwt\n",
      "jj0sephh\n",
      "peihuangoh\n",
      "azzyazz_\n",
      "engracia_duyaer\n",
      "lapsappo\n",
      "ryant_zy03\n",
      "jiayin96\n",
      "kelson_kaili\n",
      "rachzwou\n",
      "monicaarvizu85gmail\n",
      "rosiana.lou\n",
      "twc1_3\n",
      "northernstarlite\n",
      "cclxo\n",
      "jamie.lbxx\n",
      "lxndrlmzhd\n",
      "lavyn_7967\n",
      "ivana51_\n",
      "dannyljw\n",
      "mutiaraasdfgh\n",
      "jjctong\n",
      "chillisimmm\n",
      "lynda_oneday_\n",
      "jaywhy11\n",
      "dharazzz\n",
      "yuyun_9797\n",
      "xinhui_428\n",
      "_iamwilliamng_\n",
      "bjuney\n",
      "auhcnuy\n",
      "zhl_yl\n",
      "cassandra_alana\n",
      "sherileen\n",
      "jiahuigann\n",
      "tamagayo\n",
      "coolkidsz_21.3_101\n",
      "_k4vy4_\n",
      "ashleyserene10\n",
      "gengiskhant\n",
      "eliciatang\n",
      "crystal_tyq01\n",
      "cansomeonepleasekillme\n",
      "_nahcavle_\n",
      "geok1301\n",
      "jolynagnes\n",
      "themadmoon\n",
      "panuchettt\n",
      "raspberryml\n",
      "chearymin\n",
      "reikaaa05\n",
      "edmondvenge\n",
      "mershark_queen\n",
      "simplyshermaine\n",
      "nizzicato\n",
      "grandhyattbali\n",
      "bcaili\n",
      "aishahlima\n",
      "bernardkwo\n",
      "irene_kameniska\n",
      "justinlim_40\n",
      "joycelyntxq\n",
      "estoy_sh\n",
      "yunnnhuiii\n",
      "_k311._\n",
      "xia0_w3n\n",
      "fahad_al_madani\n",
      "chloenee\n",
      "monicatjy\n",
      "blackdimple_\n",
      "nicoleyie\n",
      "qingq_\n",
      "feliciacwj_\n",
      "pinkunosakura\n",
      "kxilvn_\n",
      "jia_yinnn\n",
      "jiaenn_2\n",
      "caroloooh\n",
      "keikeichin\n",
      "chodingchua_\n",
      "happygf.co\n",
      "_its_s.a.m_\n",
      "xahyun\n",
      "_jiaxgy\n",
      "chandra192\n",
      "vicki.pediaa\n",
      "phoebekhoo_20\n",
      "tanruxinn\n",
      "tiff_bii\n",
      "jessicayeow\n",
      "clara_rara_\n",
      "tghallan\n",
      "minhuihong\n",
      "yowwq\n",
      "sweetie_zhen_zhen\n",
      "_jyjiayi\n",
      "parisnataliewan\n",
      "sherrvelle\n",
      "veronkho\n",
      "butterrnutsquash\n",
      "rinswongsr__8971\n",
      "f10lovescooks\n",
      "miichellemak\n",
      "kelvinluuu\n",
      "jingsyen_98\n",
      "shinni_i7089\n",
      "qifang97\n",
      "mirror_prince\n",
      "arica_diva\n",
      "piggy_bug\n",
      "sxoxo3\n",
      "meganeeeeeer\n",
      "jeronnloong\n",
      "xinggtiann\n",
      "js.b.seang\n",
      "soomayyyyy\n",
      "tangmowadee\n",
      "beyondthehorizons_\n",
      "jerlynlhj\n",
      "phoebehmtan\n",
      "ya.yxng\n",
      "ticole_nan\n",
      "fabricatedlie\n",
      "elainelee_yl\n",
      "evanasoh\n",
      "triciaphua\n",
      "zhu_er321\n",
      "izabella.hearon\n",
      "jhoanybarcos\n",
      "nelle_nelle22\n",
      "kheidgaf\n",
      "arica_loves_jia_jia\n",
      "ooixinyi25\n",
      "nicholasng1289\n",
      "okay_byebye_usuck\n",
      "lauraholuvsunicorns\n",
      "elcah\n",
      "yeeshin__\n",
      "smxwn\n",
      "limyiwen04\n",
      "jocelynisme\n",
      "egg.glennys\n",
      "kaitingsiol\n",
      "micolejk\n",
      "chuhwee\n",
      "_ken.nis_\n",
      "20_yuanling_04\n",
      "meiling_\n",
      "joeljerome\n",
      "ahzuzu\n",
      "heyshrl\n",
      "ivychuaaa\n",
      "typicallyfantasy\n",
      "cyanzhen\n",
      "smileymarshmall0w\n",
      "fiorellamela\n",
      "michesings_\n",
      "jayden_gc\n",
      "lizziejingjing\n",
      "l.orrainie\n",
      "leckichuu\n",
      "gracebensonchia\n",
      "brian_heu98\n",
      "karenlim_80\n",
      "charmainee.t\n",
      "peistachio\n",
      "xiuzhu_keepgoing\n",
      "crispythecrunchy\n",
      "shiyingzz\n",
      "idek.ngee\n",
      "zfei_wong\n",
      "sugarplumichigo\n",
      "mstallyn\n",
      "angeline_tay\n",
      "mclair_\n",
      "keikeijellyfish\n",
      "jodyvoonzj\n"
     ]
    }
   ],
   "source": [
    "for user in users_who_liked:\n",
    "    print(user.text)"
   ]
  },
  {
   "cell_type": "code",
   "execution_count": 90,
   "metadata": {},
   "outputs": [
    {
     "name": "stdout",
     "output_type": "stream",
     "text": [
      "410\n"
     ]
    }
   ],
   "source": [
    "print(len(users_who_liked))"
   ]
  },
  {
   "cell_type": "code",
   "execution_count": 111,
   "metadata": {},
   "outputs": [],
   "source": [
    "for i in range(10):\n",
    "    browser.execute_script(\"window.scrollTo(0, document.body.scrollHeight);\")"
   ]
  },
  {
   "cell_type": "code",
   "execution_count": null,
   "metadata": {},
   "outputs": [],
   "source": []
  }
 ],
 "metadata": {
  "kernelspec": {
   "display_name": "Python 3",
   "language": "python",
   "name": "python3"
  },
  "language_info": {
   "codemirror_mode": {
    "name": "ipython",
    "version": 3
   },
   "file_extension": ".py",
   "mimetype": "text/x-python",
   "name": "python",
   "nbconvert_exporter": "python",
   "pygments_lexer": "ipython3",
   "version": "3.5.4"
  }
 },
 "nbformat": 4,
 "nbformat_minor": 2
}
