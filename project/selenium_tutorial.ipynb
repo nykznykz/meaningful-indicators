{
 "cells": [
  {
   "cell_type": "code",
   "execution_count": 1,
   "metadata": {},
   "outputs": [],
   "source": [
    "from selenium import webdriver\n",
    "from selenium.webdriver.common.keys import Keys\n",
    "import time"
   ]
  },
  {
   "cell_type": "markdown",
   "metadata": {},
   "source": [
    "Download the latest chrome driver from: https://sites.google.com/a/chromium.org/chromedriver/downloads\n",
    "place it in a directory and take note of the path"
   ]
  },
  {
   "cell_type": "code",
   "execution_count": 2,
   "metadata": {},
   "outputs": [],
   "source": [
    "browser = webdriver.Chrome(\"./chromedriver\")"
   ]
  },
  {
   "cell_type": "code",
   "execution_count": 3,
   "metadata": {},
   "outputs": [],
   "source": [
    "browser.get('http://www.instagram.com/')"
   ]
  },
  {
   "cell_type": "markdown",
   "metadata": {},
   "source": [
    "Perform the following:\n",
    "1. Log in with instagram credentials. \n",
    "2. Search for something."
   ]
  },
  {
   "cell_type": "markdown",
   "metadata": {},
   "source": [
    "#### Automated Login"
   ]
  },
  {
   "cell_type": "code",
   "execution_count": 4,
   "metadata": {},
   "outputs": [],
   "source": [
    "browser.find_element_by_css_selector('p[class=\"_g9ean\"]').find_element_by_tag_name(\"a\").click()"
   ]
  },
  {
   "cell_type": "code",
   "execution_count": 5,
   "metadata": {},
   "outputs": [],
   "source": [
    "import os"
   ]
  },
  {
   "cell_type": "code",
   "execution_count": 6,
   "metadata": {},
   "outputs": [],
   "source": [
    "email_field = browser.find_element_by_name(\"username\")"
   ]
  },
  {
   "cell_type": "code",
   "execution_count": 7,
   "metadata": {},
   "outputs": [],
   "source": [
    "email_field.send_keys(os.environ.get(\"instagram_email\"))"
   ]
  },
  {
   "cell_type": "code",
   "execution_count": 8,
   "metadata": {},
   "outputs": [],
   "source": [
    "password_field = browser.find_element_by_name(\"password\")"
   ]
  },
  {
   "cell_type": "code",
   "execution_count": 9,
   "metadata": {},
   "outputs": [],
   "source": [
    "password_field.send_keys(os.environ.get(\"instagram_password\"))"
   ]
  },
  {
   "cell_type": "code",
   "execution_count": 10,
   "metadata": {},
   "outputs": [],
   "source": [
    "button = browser.find_element_by_css_selector('button[class=\"_qv64e _gexxb _4tgw8 _njrw0\"]')"
   ]
  },
  {
   "cell_type": "code",
   "execution_count": 11,
   "metadata": {},
   "outputs": [],
   "source": [
    "button.click()"
   ]
  },
  {
   "cell_type": "markdown",
   "metadata": {},
   "source": [
    "For each post that appears in the search results, extract the caption. Depending on whether the post contains the hashtag \"sponsored\" take note of the link to the post. "
   ]
  },
  {
   "cell_type": "code",
   "execution_count": 37,
   "metadata": {},
   "outputs": [],
   "source": [
    "# inspect source, changes regularly\n",
    "css_selector = 'div[class=\"_mck9w _gvoze _tn0ps\"]'"
   ]
  },
  {
   "cell_type": "markdown",
   "metadata": {},
   "source": [
    "what's a div??: https://forums.digitalpoint.com/proxy/V%2FlNRoM4xGeP4jwhh2L%2BjeHwkEChNlXn6jUK3ET1ZceizQ%3D%3D/image.png"
   ]
  },
  {
   "cell_type": "markdown",
   "metadata": {},
   "source": [
    "**Note**: tag is in purple font, attribute is in yellow font"
   ]
  },
  {
   "cell_type": "code",
   "execution_count": 40,
   "metadata": {},
   "outputs": [],
   "source": [
    "allposts = browser.find_elements_by_css_selector(css_selector)\n",
    "list_of_sponsored_posts = []\n",
    "for post in allposts:\n",
    "    \n",
    "    post_image = post.find_element_by_tag_name(\"img\")\n",
    "    caption = post_image.get_attribute(\"alt\")\n",
    "    \n",
    "    post_link = post.find_element_by_tag_name(\"a\")\n",
    "    link = post_link.get_attribute(\"href\")\n",
    "    \n",
    "    if \"#sponsored\" in caption.lower():\n",
    "        list_of_sponsored_posts.append(link)\n",
    "    "
   ]
  },
  {
   "cell_type": "code",
   "execution_count": 41,
   "metadata": {},
   "outputs": [
    {
     "data": {
      "text/plain": [
       "['https://www.instagram.com/p/BdtT7R_DkYe/?tagged=mofsgxstarngage',\n",
       " 'https://www.instagram.com/p/BdtwQdHDslx/?tagged=mofsgxstarngage',\n",
       " 'https://www.instagram.com/p/Bdtv4iUBvyZ/?tagged=mofsgxstarngage',\n",
       " 'https://www.instagram.com/p/Bdt5niPjGaU/?tagged=mofsgxstarngage',\n",
       " 'https://www.instagram.com/p/Bdtwp27HwvQ/?tagged=mofsgxstarngage',\n",
       " 'https://www.instagram.com/p/BdtwgA9nU57/?tagged=mofsgxstarngage',\n",
       " 'https://www.instagram.com/p/Bdtv56cFCH7/?tagged=mofsgxstarngage',\n",
       " 'https://www.instagram.com/p/BdtuMpelny1/?tagged=mofsgxstarngage',\n",
       " 'https://www.instagram.com/p/BdtuJJRgnQk/?tagged=mofsgxstarngage',\n",
       " 'https://www.instagram.com/p/BdttRH3FlvX/?tagged=mofsgxstarngage',\n",
       " 'https://www.instagram.com/p/Bdts8vHgbHd/?tagged=mofsgxstarngage',\n",
       " 'https://www.instagram.com/p/BdsCWWdjGe4/?tagged=mofsgxstarngage',\n",
       " 'https://www.instagram.com/p/Bdr_NrdhFgx/?tagged=mofsgxstarngage',\n",
       " 'https://www.instagram.com/p/Bdr7hffBNjm/?tagged=mofsgxstarngage',\n",
       " 'https://www.instagram.com/p/Bdr7ePwHN2z/?tagged=mofsgxstarngage']"
      ]
     },
     "execution_count": 41,
     "metadata": {},
     "output_type": "execute_result"
    }
   ],
   "source": [
    "list_of_sponsored_posts"
   ]
  },
  {
   "cell_type": "markdown",
   "metadata": {},
   "source": [
    "Visit each post to obtain the instagram username of the influencer"
   ]
  },
  {
   "cell_type": "code",
   "execution_count": 43,
   "metadata": {},
   "outputs": [],
   "source": [
    "# Fancy progress bar\n",
    "from tqdm import tqdm"
   ]
  },
  {
   "cell_type": "markdown",
   "metadata": {},
   "source": [
    "tqdm means “progress” in Arabic (taqadum, تقدّم) and an abbreviation for “I love you so much” in Spanish (te quiero demasiado).\n",
    "\n",
    "Instantly make your loops show a smart progress meter - just wrap any iterable with tqdm(iterable), and you’re done!"
   ]
  },
  {
   "cell_type": "code",
   "execution_count": 44,
   "metadata": {},
   "outputs": [
    {
     "name": "stderr",
     "output_type": "stream",
     "text": [
      "100%|██████████| 15/15 [00:35<00:00,  2.37s/it]\n"
     ]
    }
   ],
   "source": [
    "list_of_mof_influencers = []\n",
    "css_selector = 'div[class=\"_eeohz\"]'\n",
    "for link in tqdm(list_of_sponsored_posts):\n",
    "    browser.get(link)\n",
    "    time.sleep(1)\n",
    "    list_of_mof_influencers.append(browser.find_element_by_css_selector(css_selector).text)"
   ]
  },
  {
   "cell_type": "code",
   "execution_count": 17,
   "metadata": {},
   "outputs": [
    {
     "data": {
      "text/plain": [
       "['awinsomelife',\n",
       " 'awinsomelife',\n",
       " 'celinebleh',\n",
       " 'cheowster',\n",
       " 'theroycelee',\n",
       " 'kwleong',\n",
       " 'mshannahchia',\n",
       " 'miss_teatime_sg',\n",
       " 'tjang.fonda',\n",
       " 'andreatansh',\n",
       " 'herdailymuse',\n",
       " 'mandalogy21',\n",
       " 'kavielteo',\n",
       " 'denisetaytay',\n",
       " 'shanelkiehls']"
      ]
     },
     "execution_count": 17,
     "metadata": {},
     "output_type": "execute_result"
    }
   ],
   "source": [
    "list_of_mof_influencers"
   ]
  },
  {
   "cell_type": "code",
   "execution_count": 18,
   "metadata": {},
   "outputs": [],
   "source": [
    "# Remove duplicates (order is lost)\n",
    "list_of_mof_influencers = list(set(list_of_mof_influencers))"
   ]
  },
  {
   "cell_type": "code",
   "execution_count": 19,
   "metadata": {},
   "outputs": [
    {
     "data": {
      "text/plain": [
       "['mandalogy21',\n",
       " 'shanelkiehls',\n",
       " 'kwleong',\n",
       " 'kavielteo',\n",
       " 'cheowster',\n",
       " 'theroycelee',\n",
       " 'awinsomelife',\n",
       " 'miss_teatime_sg',\n",
       " 'tjang.fonda',\n",
       " 'celinebleh',\n",
       " 'andreatansh',\n",
       " 'herdailymuse',\n",
       " 'mshannahchia',\n",
       " 'denisetaytay']"
      ]
     },
     "execution_count": 19,
     "metadata": {},
     "output_type": "execute_result"
    }
   ],
   "source": [
    "list_of_mof_influencers"
   ]
  },
  {
   "cell_type": "markdown",
   "metadata": {},
   "source": [
    "Now that we have the instagram usernames of all the influencers in the campaign, we would like to scrap their individual pages. First, we have to tackle the problem of scrolling."
   ]
  },
  {
   "cell_type": "code",
   "execution_count": 20,
   "metadata": {},
   "outputs": [],
   "source": [
    "def scroll_page(n_scrolls):\n",
    "    body_elem = browser.find_element_by_tag_name(\"body\")\n",
    "    for i in range(n_scrolls):\n",
    "        print(\"scrolling...\" + str(i + 1))\n",
    "        body_elem.send_keys(Keys.END)\n",
    "        time.sleep(2)\n",
    "            "
   ]
  },
  {
   "cell_type": "code",
   "execution_count": 21,
   "metadata": {},
   "outputs": [
    {
     "name": "stdout",
     "output_type": "stream",
     "text": [
      "scrolling...1\n",
      "scrolling...2\n",
      "scrolling...3\n",
      "scrolling...4\n",
      "scrolling...5\n"
     ]
    }
   ],
   "source": [
    "scroll_page(5)"
   ]
  },
  {
   "cell_type": "markdown",
   "metadata": {},
   "source": [
    "This block of code saves an image from a given url"
   ]
  },
  {
   "cell_type": "code",
   "execution_count": 22,
   "metadata": {},
   "outputs": [],
   "source": [
    "import urllib.request\n",
    "\n",
    "def save_img(img_src, filename):\n",
    "    urllib.request.urlretrieve(img_src, filename)\n",
    "    # TODO: Handle http response for errors"
   ]
  },
  {
   "cell_type": "markdown",
   "metadata": {},
   "source": [
    "From each post, grab the:\n",
    "1. Link of the post \n",
    "2. Img url and Caption"
   ]
  },
  {
   "cell_type": "markdown",
   "metadata": {},
   "source": [
    "**Edit**: Added influencer column to demonstrate groupby operation"
   ]
  },
  {
   "cell_type": "code",
   "execution_count": 23,
   "metadata": {},
   "outputs": [],
   "source": [
    "def scrape_links_and_captions_from_page(influencer, css_selector, n_scrolls):\n",
    "    page_url = \"https://www.instagram.com/\" + influencer\n",
    "    browser.get(page_url)\n",
    "    scroll_page(n_scrolls)\n",
    "    allposts = browser.find_elements_by_css_selector(css_selector)\n",
    "    # start with an empty list of data\n",
    "    data = []\n",
    "    counter = 0\n",
    "    print(\"saving data...\")\n",
    "    for post in allposts:\n",
    "        post_link = post.find_element_by_tag_name(\"a\")\n",
    "        post_image = post.find_element_by_tag_name(\"img\")\n",
    "\n",
    "        link = post_link.get_attribute(\"href\")\n",
    "        caption = post_image.get_attribute(\"alt\")\n",
    "        image_url = post_image.get_attribute(\"src\")\n",
    "        \n",
    "        # assigns a unique file name to each image\n",
    "        filename = \"./data/%s_%s.jpg\"%(influencer,str(counter))\n",
    "        \n",
    "        save_img(image_url, filename)\n",
    "        data.append([influencer,link,caption,filename])\n",
    "        counter += 1\n",
    "        \n",
    "    return data"
   ]
  },
  {
   "cell_type": "markdown",
   "metadata": {},
   "source": [
    "list indexing: https://i.stack.imgur.com/vIKaD.png"
   ]
  },
  {
   "cell_type": "code",
   "execution_count": 24,
   "metadata": {},
   "outputs": [
    {
     "name": "stdout",
     "output_type": "stream",
     "text": [
      "herdailymuse\n",
      "scrolling...1\n",
      "scrolling...2\n",
      "scrolling...3\n",
      "scrolling...4\n",
      "scrolling...5\n",
      "saving data...\n",
      "mshannahchia\n",
      "scrolling...1\n",
      "scrolling...2\n",
      "scrolling...3\n",
      "scrolling...4\n",
      "scrolling...5\n",
      "saving data...\n",
      "denisetaytay\n",
      "scrolling...1\n",
      "scrolling...2\n",
      "scrolling...3\n",
      "scrolling...4\n",
      "scrolling...5\n",
      "saving data...\n"
     ]
    }
   ],
   "source": [
    "css_selector_posts = 'div[class=\"_mck9w _gvoze _tn0ps\"]'\n",
    "all_data = []\n",
    "for influencer in list_of_mof_influencers[-3:]:\n",
    "    print(influencer)\n",
    "    data = scrape_links_and_captions_from_page(influencer, css_selector_posts, n_scrolls=5)\n",
    "    all_data += data"
   ]
  },
  {
   "cell_type": "markdown",
   "metadata": {},
   "source": [
    "### \"Data Analysis\""
   ]
  },
  {
   "cell_type": "code",
   "execution_count": 75,
   "metadata": {},
   "outputs": [],
   "source": [
    "import pandas as pd\n",
    "df = pd.DataFrame(all_data, columns=[\"influencer\",\"links\", \"captions\",\"filename\"])"
   ]
  },
  {
   "cell_type": "code",
   "execution_count": 76,
   "metadata": {},
   "outputs": [],
   "source": [
    "df[\"word_count\"] = df.captions.apply(lambda x: len(x.split(\" \")))"
   ]
  },
  {
   "cell_type": "code",
   "execution_count": 77,
   "metadata": {},
   "outputs": [
    {
     "data": {
      "text/html": [
       "<div>\n",
       "<style scoped>\n",
       "    .dataframe tbody tr th:only-of-type {\n",
       "        vertical-align: middle;\n",
       "    }\n",
       "\n",
       "    .dataframe tbody tr th {\n",
       "        vertical-align: top;\n",
       "    }\n",
       "\n",
       "    .dataframe thead th {\n",
       "        text-align: right;\n",
       "    }\n",
       "</style>\n",
       "<table border=\"1\" class=\"dataframe\">\n",
       "  <thead>\n",
       "    <tr style=\"text-align: right;\">\n",
       "      <th></th>\n",
       "      <th>influencer</th>\n",
       "      <th>links</th>\n",
       "      <th>captions</th>\n",
       "      <th>filename</th>\n",
       "      <th>word_count</th>\n",
       "    </tr>\n",
       "  </thead>\n",
       "  <tbody>\n",
       "    <tr>\n",
       "      <th>0</th>\n",
       "      <td>herdailymuse</td>\n",
       "      <td>https://www.instagram.com/p/BckDb9aAsIZ/?taken...</td>\n",
       "      <td>Card games, mugs, stuffed toys, musical gifts,...</td>\n",
       "      <td>./data/herdailymuse_0.jpg</td>\n",
       "      <td>78</td>\n",
       "    </tr>\n",
       "    <tr>\n",
       "      <th>1</th>\n",
       "      <td>herdailymuse</td>\n",
       "      <td>https://www.instagram.com/p/Bchhz55gPgX/?taken...</td>\n",
       "      <td>Xmas is coming ❄️☺️👍🏻</td>\n",
       "      <td>./data/herdailymuse_1.jpg</td>\n",
       "      <td>4</td>\n",
       "    </tr>\n",
       "    <tr>\n",
       "      <th>2</th>\n",
       "      <td>herdailymuse</td>\n",
       "      <td>https://www.instagram.com/p/BcCrhcKANz5/?taken...</td>\n",
       "      <td>It's Tuesday! One more day to mid-week ;) Had ...</td>\n",
       "      <td>./data/herdailymuse_2.jpg</td>\n",
       "      <td>126</td>\n",
       "    </tr>\n",
       "    <tr>\n",
       "      <th>3</th>\n",
       "      <td>herdailymuse</td>\n",
       "      <td>https://www.instagram.com/p/Bb1y3_ZgjWJ/?taken...</td>\n",
       "      <td>Brought my Sudio Tre Earphones out for a run 🏃...</td>\n",
       "      <td>./data/herdailymuse_3.jpg</td>\n",
       "      <td>101</td>\n",
       "    </tr>\n",
       "    <tr>\n",
       "      <th>4</th>\n",
       "      <td>herdailymuse</td>\n",
       "      <td>https://www.instagram.com/p/Bb0VHFXAdmv/?taken...</td>\n",
       "      <td>[TELEPORT TO ANOTHER WORLD] with Sudio Sweden ...</td>\n",
       "      <td>./data/herdailymuse_4.jpg</td>\n",
       "      <td>118</td>\n",
       "    </tr>\n",
       "  </tbody>\n",
       "</table>\n",
       "</div>"
      ],
      "text/plain": [
       "     influencer                                              links  \\\n",
       "0  herdailymuse  https://www.instagram.com/p/BckDb9aAsIZ/?taken...   \n",
       "1  herdailymuse  https://www.instagram.com/p/Bchhz55gPgX/?taken...   \n",
       "2  herdailymuse  https://www.instagram.com/p/BcCrhcKANz5/?taken...   \n",
       "3  herdailymuse  https://www.instagram.com/p/Bb1y3_ZgjWJ/?taken...   \n",
       "4  herdailymuse  https://www.instagram.com/p/Bb0VHFXAdmv/?taken...   \n",
       "\n",
       "                                            captions  \\\n",
       "0  Card games, mugs, stuffed toys, musical gifts,...   \n",
       "1                              Xmas is coming ❄️☺️👍🏻   \n",
       "2  It's Tuesday! One more day to mid-week ;) Had ...   \n",
       "3  Brought my Sudio Tre Earphones out for a run 🏃...   \n",
       "4  [TELEPORT TO ANOTHER WORLD] with Sudio Sweden ...   \n",
       "\n",
       "                    filename  word_count  \n",
       "0  ./data/herdailymuse_0.jpg          78  \n",
       "1  ./data/herdailymuse_1.jpg           4  \n",
       "2  ./data/herdailymuse_2.jpg         126  \n",
       "3  ./data/herdailymuse_3.jpg         101  \n",
       "4  ./data/herdailymuse_4.jpg         118  "
      ]
     },
     "execution_count": 77,
     "metadata": {},
     "output_type": "execute_result"
    }
   ],
   "source": [
    "df.head()"
   ]
  },
  {
   "cell_type": "code",
   "execution_count": 78,
   "metadata": {},
   "outputs": [
    {
     "data": {
      "text/html": [
       "<div>\n",
       "<style scoped>\n",
       "    .dataframe tbody tr th:only-of-type {\n",
       "        vertical-align: middle;\n",
       "    }\n",
       "\n",
       "    .dataframe tbody tr th {\n",
       "        vertical-align: top;\n",
       "    }\n",
       "\n",
       "    .dataframe thead th {\n",
       "        text-align: right;\n",
       "    }\n",
       "</style>\n",
       "<table border=\"1\" class=\"dataframe\">\n",
       "  <thead>\n",
       "    <tr style=\"text-align: right;\">\n",
       "      <th></th>\n",
       "      <th>word_count</th>\n",
       "    </tr>\n",
       "    <tr>\n",
       "      <th>influencer</th>\n",
       "      <th></th>\n",
       "    </tr>\n",
       "  </thead>\n",
       "  <tbody>\n",
       "    <tr>\n",
       "      <th>denisetaytay</th>\n",
       "      <td>81.111111</td>\n",
       "    </tr>\n",
       "    <tr>\n",
       "      <th>herdailymuse</th>\n",
       "      <td>61.311111</td>\n",
       "    </tr>\n",
       "    <tr>\n",
       "      <th>mshannahchia</th>\n",
       "      <td>86.711111</td>\n",
       "    </tr>\n",
       "  </tbody>\n",
       "</table>\n",
       "</div>"
      ],
      "text/plain": [
       "              word_count\n",
       "influencer              \n",
       "denisetaytay   81.111111\n",
       "herdailymuse   61.311111\n",
       "mshannahchia   86.711111"
      ]
     },
     "execution_count": 78,
     "metadata": {},
     "output_type": "execute_result"
    }
   ],
   "source": [
    "df.groupby(\"influencer\").mean()"
   ]
  },
  {
   "cell_type": "markdown",
   "metadata": {},
   "source": [
    "### Bonus: Sentiment Analysis"
   ]
  },
  {
   "cell_type": "code",
   "execution_count": 80,
   "metadata": {},
   "outputs": [
    {
     "name": "stdout",
     "output_type": "stream",
     "text": [
      "3.0 6.0 10.0\n"
     ]
    }
   ],
   "source": [
    "# Afinn's was trained on language from micro-blogs (e.g. twitter) and is hence quite suitable for our case!\n",
    "from afinn import Afinn\n",
    "afinn = Afinn()\n",
    "print(afinn.score('This is utterly excellent!'), #Score of 3.0\n",
    "afinn.score('This is utterly excellent! LOL'),   #Score of 6.0\n",
    "afinn.score('This is utterly excellent! LOL LMAO')) #Score of 10.0"
   ]
  },
  {
   "cell_type": "code",
   "execution_count": 81,
   "metadata": {},
   "outputs": [],
   "source": [
    "df[\"sentiment\"] = df.captions.apply(afinn.score)"
   ]
  },
  {
   "cell_type": "code",
   "execution_count": 94,
   "metadata": {},
   "outputs": [
    {
     "data": {
      "text/html": [
       "<div>\n",
       "<style scoped>\n",
       "    .dataframe tbody tr th:only-of-type {\n",
       "        vertical-align: middle;\n",
       "    }\n",
       "\n",
       "    .dataframe tbody tr th {\n",
       "        vertical-align: top;\n",
       "    }\n",
       "\n",
       "    .dataframe thead th {\n",
       "        text-align: right;\n",
       "    }\n",
       "</style>\n",
       "<table border=\"1\" class=\"dataframe\">\n",
       "  <thead>\n",
       "    <tr style=\"text-align: right;\">\n",
       "      <th></th>\n",
       "      <th>influencer</th>\n",
       "      <th>links</th>\n",
       "      <th>captions</th>\n",
       "      <th>filename</th>\n",
       "      <th>word_count</th>\n",
       "      <th>sentiment</th>\n",
       "    </tr>\n",
       "  </thead>\n",
       "  <tbody>\n",
       "    <tr>\n",
       "      <th>0</th>\n",
       "      <td>herdailymuse</td>\n",
       "      <td>https://www.instagram.com/p/BckDb9aAsIZ/?taken...</td>\n",
       "      <td>Card games, mugs, stuffed toys, musical gifts,...</td>\n",
       "      <td>./data/herdailymuse_0.jpg</td>\n",
       "      <td>78</td>\n",
       "      <td>11.0</td>\n",
       "    </tr>\n",
       "    <tr>\n",
       "      <th>1</th>\n",
       "      <td>herdailymuse</td>\n",
       "      <td>https://www.instagram.com/p/Bchhz55gPgX/?taken...</td>\n",
       "      <td>Xmas is coming ❄️☺️👍🏻</td>\n",
       "      <td>./data/herdailymuse_1.jpg</td>\n",
       "      <td>4</td>\n",
       "      <td>0.0</td>\n",
       "    </tr>\n",
       "    <tr>\n",
       "      <th>2</th>\n",
       "      <td>herdailymuse</td>\n",
       "      <td>https://www.instagram.com/p/BcCrhcKANz5/?taken...</td>\n",
       "      <td>It's Tuesday! One more day to mid-week ;) Had ...</td>\n",
       "      <td>./data/herdailymuse_2.jpg</td>\n",
       "      <td>126</td>\n",
       "      <td>19.0</td>\n",
       "    </tr>\n",
       "    <tr>\n",
       "      <th>3</th>\n",
       "      <td>herdailymuse</td>\n",
       "      <td>https://www.instagram.com/p/Bb1y3_ZgjWJ/?taken...</td>\n",
       "      <td>Brought my Sudio Tre Earphones out for a run 🏃...</td>\n",
       "      <td>./data/herdailymuse_3.jpg</td>\n",
       "      <td>101</td>\n",
       "      <td>15.0</td>\n",
       "    </tr>\n",
       "    <tr>\n",
       "      <th>4</th>\n",
       "      <td>herdailymuse</td>\n",
       "      <td>https://www.instagram.com/p/Bb0VHFXAdmv/?taken...</td>\n",
       "      <td>[TELEPORT TO ANOTHER WORLD] with Sudio Sweden ...</td>\n",
       "      <td>./data/herdailymuse_4.jpg</td>\n",
       "      <td>118</td>\n",
       "      <td>24.0</td>\n",
       "    </tr>\n",
       "  </tbody>\n",
       "</table>\n",
       "</div>"
      ],
      "text/plain": [
       "     influencer                                              links  \\\n",
       "0  herdailymuse  https://www.instagram.com/p/BckDb9aAsIZ/?taken...   \n",
       "1  herdailymuse  https://www.instagram.com/p/Bchhz55gPgX/?taken...   \n",
       "2  herdailymuse  https://www.instagram.com/p/BcCrhcKANz5/?taken...   \n",
       "3  herdailymuse  https://www.instagram.com/p/Bb1y3_ZgjWJ/?taken...   \n",
       "4  herdailymuse  https://www.instagram.com/p/Bb0VHFXAdmv/?taken...   \n",
       "\n",
       "                                            captions  \\\n",
       "0  Card games, mugs, stuffed toys, musical gifts,...   \n",
       "1                              Xmas is coming ❄️☺️👍🏻   \n",
       "2  It's Tuesday! One more day to mid-week ;) Had ...   \n",
       "3  Brought my Sudio Tre Earphones out for a run 🏃...   \n",
       "4  [TELEPORT TO ANOTHER WORLD] with Sudio Sweden ...   \n",
       "\n",
       "                    filename  word_count  sentiment  \n",
       "0  ./data/herdailymuse_0.jpg          78       11.0  \n",
       "1  ./data/herdailymuse_1.jpg           4        0.0  \n",
       "2  ./data/herdailymuse_2.jpg         126       19.0  \n",
       "3  ./data/herdailymuse_3.jpg         101       15.0  \n",
       "4  ./data/herdailymuse_4.jpg         118       24.0  "
      ]
     },
     "execution_count": 94,
     "metadata": {},
     "output_type": "execute_result"
    }
   ],
   "source": [
    "df.head()"
   ]
  },
  {
   "cell_type": "code",
   "execution_count": 83,
   "metadata": {},
   "outputs": [
    {
     "data": {
      "text/html": [
       "<div>\n",
       "<style scoped>\n",
       "    .dataframe tbody tr th:only-of-type {\n",
       "        vertical-align: middle;\n",
       "    }\n",
       "\n",
       "    .dataframe tbody tr th {\n",
       "        vertical-align: top;\n",
       "    }\n",
       "\n",
       "    .dataframe thead th {\n",
       "        text-align: right;\n",
       "    }\n",
       "</style>\n",
       "<table border=\"1\" class=\"dataframe\">\n",
       "  <thead>\n",
       "    <tr style=\"text-align: right;\">\n",
       "      <th></th>\n",
       "      <th>word_count</th>\n",
       "      <th>sentiment</th>\n",
       "    </tr>\n",
       "    <tr>\n",
       "      <th>influencer</th>\n",
       "      <th></th>\n",
       "      <th></th>\n",
       "    </tr>\n",
       "  </thead>\n",
       "  <tbody>\n",
       "    <tr>\n",
       "      <th>denisetaytay</th>\n",
       "      <td>81.111111</td>\n",
       "      <td>6.866667</td>\n",
       "    </tr>\n",
       "    <tr>\n",
       "      <th>herdailymuse</th>\n",
       "      <td>61.311111</td>\n",
       "      <td>7.622222</td>\n",
       "    </tr>\n",
       "    <tr>\n",
       "      <th>mshannahchia</th>\n",
       "      <td>86.711111</td>\n",
       "      <td>6.311111</td>\n",
       "    </tr>\n",
       "  </tbody>\n",
       "</table>\n",
       "</div>"
      ],
      "text/plain": [
       "              word_count  sentiment\n",
       "influencer                         \n",
       "denisetaytay   81.111111   6.866667\n",
       "herdailymuse   61.311111   7.622222\n",
       "mshannahchia   86.711111   6.311111"
      ]
     },
     "execution_count": 83,
     "metadata": {},
     "output_type": "execute_result"
    }
   ],
   "source": [
    "df.groupby(\"influencer\").mean()"
   ]
  },
  {
   "cell_type": "markdown",
   "metadata": {},
   "source": [
    "__herdailymuse__ has the lowest average `word_count` and highest average `sentiment`"
   ]
  },
  {
   "cell_type": "code",
   "execution_count": 79,
   "metadata": {},
   "outputs": [],
   "source": [
    "# Save the dataframe to a csv\n",
    "df.to_csv(\"mof_ig_data.csv\")"
   ]
  },
  {
   "cell_type": "code",
   "execution_count": 107,
   "metadata": {},
   "outputs": [],
   "source": [
    "import matplotlib.pyplot as plt"
   ]
  },
  {
   "cell_type": "code",
   "execution_count": 116,
   "metadata": {},
   "outputs": [
    {
     "data": {
      "text/plain": [
       "Text(0.5,1,'sentiment - word_count graph')"
      ]
     },
     "execution_count": 116,
     "metadata": {},
     "output_type": "execute_result"
    },
    {
     "data": {
      "image/png": "[encoded data removed]",
      "text/plain": [
       "<matplotlib.figure.Figure at 0x7f2ddc0f87f0>"
      ]
     },
     "metadata": {},
     "output_type": "display_data"
    }
   ],
   "source": [
    "plt.scatter(df.word_count, df.sentiment)\n",
    "plt.xlabel(\"word_count\")\n",
    "plt.ylabel(\"sentiment\")\n",
    "plt.title(\"sentiment - word_count graph\")"
   ]
  },
  {
   "cell_type": "code",
   "execution_count": null,
   "metadata": {},
   "outputs": [],
   "source": []
  }
 ],
 "metadata": {
  "kernelspec": {
   "display_name": "Python 3",
   "language": "python",
   "name": "python3"
  },
  "language_info": {
   "codemirror_mode": {
    "name": "ipython",
    "version": 3
   },
   "file_extension": ".py",
   "mimetype": "text/x-python",
   "name": "python",
   "nbconvert_exporter": "python",
   "pygments_lexer": "ipython3",
   "version": "3.5.4"
  }
 },
 "nbformat": 4,
 "nbformat_minor": 2
}
