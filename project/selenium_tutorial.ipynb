{
 "cells": [
  {
   "cell_type": "code",
   "execution_count": null,
   "metadata": {},
   "outputs": [],
   "source": [
    "from selenium import webdriver\n",
    "from selenium.webdriver.common.keys import Keys\n",
    "import time"
   ]
  },
  {
   "cell_type": "markdown",
   "metadata": {},
   "source": [
    "Download the latest chrome driver from: https://sites.google.com/a/chromium.org/chromedriver/downloads\n",
    "place it in a directory and take note of the path"
   ]
  },
  {
   "cell_type": "code",
   "execution_count": 20,
   "metadata": {},
   "outputs": [],
   "source": [
    "browser = webdriver.Chrome(\"./chromedriver\")"
   ]
  },
  {
   "cell_type": "code",
   "execution_count": 21,
   "metadata": {},
   "outputs": [],
   "source": [
    "browser.get('http://www.instagram.com/')"
   ]
  },
  {
   "cell_type": "markdown",
   "metadata": {},
   "source": [
    "Perform the following:\n",
    "1. Log in with instagram credentials. \n",
    "2. Search for something."
   ]
  },
  {
   "cell_type": "markdown",
   "metadata": {},
   "source": [
    "#### Automated Login"
   ]
  },
  {
   "cell_type": "code",
   "execution_count": 22,
   "metadata": {},
   "outputs": [],
   "source": [
    "browser.find_element_by_css_selector('p[class=\"_g9ean\"]').find_element_by_tag_name(\"a\").click()"
   ]
  },
  {
   "cell_type": "code",
   "execution_count": 23,
   "metadata": {},
   "outputs": [],
   "source": [
    "import os"
   ]
  },
  {
   "cell_type": "code",
   "execution_count": 24,
   "metadata": {},
   "outputs": [],
   "source": [
    "email_field = browser.find_element_by_name(\"username\")"
   ]
  },
  {
   "cell_type": "code",
   "execution_count": 25,
   "metadata": {},
   "outputs": [],
   "source": [
    "email_field.send_keys(os.environ.get(\"instagram_email\"))"
   ]
  },
  {
   "cell_type": "code",
   "execution_count": 26,
   "metadata": {},
   "outputs": [],
   "source": [
    "password_field = browser.find_element_by_name(\"password\")"
   ]
  },
  {
   "cell_type": "code",
   "execution_count": 27,
   "metadata": {},
   "outputs": [],
   "source": [
    "password_field.send_keys(os.environ.get(\"instagram_password\"))"
   ]
  },
  {
   "cell_type": "code",
   "execution_count": 28,
   "metadata": {},
   "outputs": [],
   "source": [
    "button = browser.find_element_by_css_selector('button[class=\"_qv64e _gexxb _4tgw8 _njrw0\"]')"
   ]
  },
  {
   "cell_type": "code",
   "execution_count": 29,
   "metadata": {},
   "outputs": [],
   "source": [
    "button.click()"
   ]
  },
  {
   "cell_type": "markdown",
   "metadata": {},
   "source": [
    "For each post that appears in the search results, extract the caption. Depending on whether the post contains the hashtag \"sponsored\" take note of the link to the post. "
   ]
  },
  {
   "cell_type": "code",
   "execution_count": 30,
   "metadata": {},
   "outputs": [],
   "source": [
    "# inspect source, changes regularly\n",
    "css_selector = 'div[class=\"_mck9w _gvoze _tn0ps\"]'"
   ]
  },
  {
   "cell_type": "markdown",
   "metadata": {},
   "source": [
    "what's a div??: https://forums.digitalpoint.com/proxy/V%2FlNRoM4xGeP4jwhh2L%2BjeHwkEChNlXn6jUK3ET1ZceizQ%3D%3D/image.png"
   ]
  },
  {
   "cell_type": "markdown",
   "metadata": {},
   "source": [
    "**Note**: tag is in purple font, attribute is in yellow font"
   ]
  },
  {
   "cell_type": "code",
   "execution_count": 31,
   "metadata": {},
   "outputs": [],
   "source": [
    "allposts = browser.find_elements_by_css_selector(css_selector)\n",
    "list_of_sponsored_posts = []\n",
    "for post in allposts:\n",
    "    \n",
    "    post_image = post.find_element_by_tag_name(\"img\")\n",
    "    caption = post_image.get_attribute(\"alt\")\n",
    "    \n",
    "    post_link = post.find_element_by_tag_name(\"a\")\n",
    "    link = post_link.get_attribute(\"href\")\n",
    "    \n",
    "    if \"#sponsored\" in caption.lower():\n",
    "        list_of_sponsored_posts.append(link)\n",
    "    "
   ]
  },
  {
   "cell_type": "code",
   "execution_count": 32,
   "metadata": {},
   "outputs": [
    {
     "data": {
      "text/plain": [
       "['https://www.instagram.com/p/BdtT7R_DkYe/?tagged=mofsgxstarngage',\n",
       " 'https://www.instagram.com/p/BdtwQdHDslx/?tagged=mofsgxstarngage',\n",
       " 'https://www.instagram.com/p/Bdtv4iUBvyZ/?tagged=mofsgxstarngage',\n",
       " 'https://www.instagram.com/p/Bdt5niPjGaU/?tagged=mofsgxstarngage',\n",
       " 'https://www.instagram.com/p/Bdtwp27HwvQ/?tagged=mofsgxstarngage',\n",
       " 'https://www.instagram.com/p/BdtwgA9nU57/?tagged=mofsgxstarngage',\n",
       " 'https://www.instagram.com/p/Bdtv56cFCH7/?tagged=mofsgxstarngage',\n",
       " 'https://www.instagram.com/p/BdtuMpelny1/?tagged=mofsgxstarngage',\n",
       " 'https://www.instagram.com/p/BdtuJJRgnQk/?tagged=mofsgxstarngage',\n",
       " 'https://www.instagram.com/p/BdttRH3FlvX/?tagged=mofsgxstarngage',\n",
       " 'https://www.instagram.com/p/Bdts8vHgbHd/?tagged=mofsgxstarngage',\n",
       " 'https://www.instagram.com/p/BdsCWWdjGe4/?tagged=mofsgxstarngage',\n",
       " 'https://www.instagram.com/p/Bdr_NrdhFgx/?tagged=mofsgxstarngage',\n",
       " 'https://www.instagram.com/p/Bdr7hffBNjm/?tagged=mofsgxstarngage',\n",
       " 'https://www.instagram.com/p/Bdr7ePwHN2z/?tagged=mofsgxstarngage']"
      ]
     },
     "execution_count": 32,
     "metadata": {},
     "output_type": "execute_result"
    }
   ],
   "source": [
    "list_of_sponsored_posts"
   ]
  },
  {
   "cell_type": "markdown",
   "metadata": {},
   "source": [
    "Visit each post to obtain the instagram username of the influencer"
   ]
  },
  {
   "cell_type": "code",
   "execution_count": 33,
   "metadata": {},
   "outputs": [],
   "source": [
    "list_of_mof_influencers = []\n",
    "css_selector = 'div[class=\"_eeohz\"]'\n",
    "for link in list_of_sponsored_posts:\n",
    "    browser.get(link)\n",
    "    time.sleep(1)\n",
    "    list_of_mof_influencers.append(browser.find_element_by_css_selector(css_selector).text)"
   ]
  },
  {
   "cell_type": "code",
   "execution_count": 34,
   "metadata": {},
   "outputs": [
    {
     "data": {
      "text/plain": [
       "['awinsomelife',\n",
       " 'awinsomelife',\n",
       " 'celinebleh',\n",
       " 'cheowster',\n",
       " 'theroycelee',\n",
       " 'kwleong',\n",
       " 'mshannahchia',\n",
       " 'miss_teatime_sg',\n",
       " 'tjang.fonda',\n",
       " 'andreatansh',\n",
       " 'herdailymuse',\n",
       " 'mandalogy21',\n",
       " 'kavielteo',\n",
       " 'denisetaytay',\n",
       " 'shanelkiehls']"
      ]
     },
     "execution_count": 34,
     "metadata": {},
     "output_type": "execute_result"
    }
   ],
   "source": [
    "list_of_mof_influencers"
   ]
  },
  {
   "cell_type": "code",
   "execution_count": 35,
   "metadata": {},
   "outputs": [],
   "source": [
    "# Remove duplicates (order is lost)\n",
    "list_of_mof_influencers = list(set(list_of_mof_influencers))"
   ]
  },
  {
   "cell_type": "code",
   "execution_count": 36,
   "metadata": {},
   "outputs": [
    {
     "data": {
      "text/plain": [
       "['tjang.fonda',\n",
       " 'kavielteo',\n",
       " 'andreatansh',\n",
       " 'denisetaytay',\n",
       " 'mandalogy21',\n",
       " 'shanelkiehls',\n",
       " 'cheowster',\n",
       " 'theroycelee',\n",
       " 'kwleong',\n",
       " 'herdailymuse',\n",
       " 'miss_teatime_sg',\n",
       " 'awinsomelife',\n",
       " 'mshannahchia',\n",
       " 'celinebleh']"
      ]
     },
     "execution_count": 36,
     "metadata": {},
     "output_type": "execute_result"
    }
   ],
   "source": [
    "list_of_mof_influencers"
   ]
  },
  {
   "cell_type": "markdown",
   "metadata": {},
   "source": [
    "Now that we have the instagram usernames of all the influencers in the campaign, we would like to scrap their individual pages. First, we have to tackle the problem of scrolling."
   ]
  },
  {
   "cell_type": "code",
   "execution_count": 40,
   "metadata": {},
   "outputs": [],
   "source": [
    "def scroll_page(n_scrolls):\n",
    "    body_elem = browser.find_element_by_tag_name(\"body\")\n",
    "    for i in range(n_scrolls):\n",
    "        print(\"scrolling...\" + str(i + 1))\n",
    "        body_elem.send_keys(Keys.END)\n",
    "        time.sleep(2)\n",
    "            "
   ]
  },
  {
   "cell_type": "code",
   "execution_count": 41,
   "metadata": {},
   "outputs": [
    {
     "name": "stdout",
     "output_type": "stream",
     "text": [
      "scrolling...1\n",
      "scrolling...2\n",
      "scrolling...3\n",
      "scrolling...4\n",
      "scrolling...5\n"
     ]
    }
   ],
   "source": [
    "scroll_page(5)"
   ]
  },
  {
   "cell_type": "markdown",
   "metadata": {},
   "source": [
    "This block of code saves an image from a given url"
   ]
  },
  {
   "cell_type": "code",
   "execution_count": 42,
   "metadata": {},
   "outputs": [],
   "source": [
    "import urllib.request\n",
    "\n",
    "def save_img(img_src, filename):\n",
    "    urllib.request.urlretrieve(img_src, filename)\n",
    "    # TODO: Handle http response for errors"
   ]
  },
  {
   "cell_type": "markdown",
   "metadata": {},
   "source": [
    "From each post, grab the:\n",
    "1. Link of the post \n",
    "2. Img url and Caption"
   ]
  },
  {
   "cell_type": "markdown",
   "metadata": {},
   "source": [
    "**Edit**: Added influencer column to demonstrate groupby operation"
   ]
  },
  {
   "cell_type": "code",
   "execution_count": 57,
   "metadata": {},
   "outputs": [],
   "source": [
    "def scrape_links_and_captions_from_page(influencer, css_selector, n_scrolls):\n",
    "    page_url = \"https://www.instagram.com/\" + influencer\n",
    "    browser.get(page_url)\n",
    "    scroll_page(n_scrolls)\n",
    "    allposts = browser.find_elements_by_css_selector(css_selector)\n",
    "    # start with an empty list of data\n",
    "    data = []\n",
    "    counter = 0\n",
    "    print(\"saving data...\")\n",
    "    for post in allposts:\n",
    "        post_link = post.find_element_by_tag_name(\"a\")\n",
    "        post_image = post.find_element_by_tag_name(\"img\")\n",
    "\n",
    "        link = post_link.get_attribute(\"href\")\n",
    "        caption = post_image.get_attribute(\"alt\")\n",
    "        image_url = post_image.get_attribute(\"src\")\n",
    "        \n",
    "        # assigns a unique file name to each image\n",
    "        filename = \"./data/%s_%s.jpg\"%(influencer,str(counter))\n",
    "        \n",
    "        save_img(image_url, filename)\n",
    "        data.append([influencer,link,caption,filename])\n",
    "        counter += 1\n",
    "        \n",
    "    return data"
   ]
  },
  {
   "cell_type": "markdown",
   "metadata": {},
   "source": [
    "list indexing: https://i.stack.imgur.com/vIKaD.png"
   ]
  },
  {
   "cell_type": "code",
   "execution_count": 58,
   "metadata": {},
   "outputs": [
    {
     "name": "stdout",
     "output_type": "stream",
     "text": [
      "awinsomelife\n",
      "scrolling...1\n",
      "scrolling...2\n",
      "scrolling...3\n",
      "scrolling...4\n",
      "scrolling...5\n",
      "saving data...\n",
      "mshannahchia\n",
      "scrolling...1\n",
      "scrolling...2\n",
      "scrolling...3\n",
      "scrolling...4\n",
      "scrolling...5\n",
      "saving data...\n",
      "celinebleh\n",
      "scrolling...1\n",
      "scrolling...2\n",
      "scrolling...3\n",
      "scrolling...4\n",
      "scrolling...5\n",
      "saving data...\n"
     ]
    }
   ],
   "source": [
    "css_selector_posts = 'div[class=\"_mck9w _gvoze _tn0ps\"]'\n",
    "all_data = []\n",
    "for influencer in list_of_mof_influencers[-3:]:\n",
    "    print(influencer)\n",
    "    data = scrape_links_and_captions_from_page(influencer, css_selector_posts, n_scrolls=5)\n",
    "    all_data += data"
   ]
  },
  {
   "cell_type": "markdown",
   "metadata": {},
   "source": [
    "### Looking at the data"
   ]
  },
  {
   "cell_type": "code",
   "execution_count": 59,
   "metadata": {},
   "outputs": [],
   "source": [
    "import pandas as pd\n",
    "df = pd.DataFrame(all_data, columns=[\"influencer\",\"links\", \"captions\",\"filename\"])"
   ]
  },
  {
   "cell_type": "code",
   "execution_count": 61,
   "metadata": {},
   "outputs": [],
   "source": [
    "df[\"word count\"] = df.captions.apply(lambda x: len(x.split(\" \")))"
   ]
  },
  {
   "cell_type": "code",
   "execution_count": 79,
   "metadata": {},
   "outputs": [
    {
     "data": {
      "text/html": [
       "<div>\n",
       "<style scoped>\n",
       "    .dataframe tbody tr th:only-of-type {\n",
       "        vertical-align: middle;\n",
       "    }\n",
       "\n",
       "    .dataframe tbody tr th {\n",
       "        vertical-align: top;\n",
       "    }\n",
       "\n",
       "    .dataframe thead th {\n",
       "        text-align: right;\n",
       "    }\n",
       "</style>\n",
       "<table border=\"1\" class=\"dataframe\">\n",
       "  <thead>\n",
       "    <tr style=\"text-align: right;\">\n",
       "      <th></th>\n",
       "      <th>word count</th>\n",
       "    </tr>\n",
       "    <tr>\n",
       "      <th>influencer</th>\n",
       "      <th></th>\n",
       "    </tr>\n",
       "  </thead>\n",
       "  <tbody>\n",
       "    <tr>\n",
       "      <th>awinsomelife</th>\n",
       "      <td>39.533333</td>\n",
       "    </tr>\n",
       "    <tr>\n",
       "      <th>celinebleh</th>\n",
       "      <td>58.488889</td>\n",
       "    </tr>\n",
       "    <tr>\n",
       "      <th>mshannahchia</th>\n",
       "      <td>86.711111</td>\n",
       "    </tr>\n",
       "  </tbody>\n",
       "</table>\n",
       "</div>"
      ],
      "text/plain": [
       "              word count\n",
       "influencer              \n",
       "awinsomelife   39.533333\n",
       "celinebleh     58.488889\n",
       "mshannahchia   86.711111"
      ]
     },
     "execution_count": 79,
     "metadata": {},
     "output_type": "execute_result"
    }
   ],
   "source": [
    "df.groupby(\"influencer\").mean()"
   ]
  },
  {
   "cell_type": "code",
   "execution_count": 52,
   "metadata": {},
   "outputs": [],
   "source": [
    "# Save the dataframe to a csv\n",
    "df.to_csv(\"mof_ig_data.csv\")"
   ]
  },
  {
   "cell_type": "code",
   "execution_count": null,
   "metadata": {},
   "outputs": [],
   "source": []
  }
 ],
 "metadata": {
  "kernelspec": {
   "display_name": "Python 3",
   "language": "python",
   "name": "python3"
  },
  "language_info": {
   "codemirror_mode": {
    "name": "ipython",
    "version": 3
   },
   "file_extension": ".py",
   "mimetype": "text/x-python",
   "name": "python",
   "nbconvert_exporter": "python",
   "pygments_lexer": "ipython3",
   "version": "3.5.4"
  }
 },
 "nbformat": 4,
 "nbformat_minor": 2
}
